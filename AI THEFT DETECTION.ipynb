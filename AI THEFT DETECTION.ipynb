{
 "cells": [
  {
   "cell_type": "code",
   "execution_count": 1,
   "id": "a78afcfb",
   "metadata": {},
   "outputs": [],
   "source": [
    "import cv2\n",
    "import time\n"
   ]
  },
  {
   "cell_type": "code",
   "execution_count": 2,
   "id": "e4435fc3",
   "metadata": {},
   "outputs": [],
   "source": [
    "import pandas as pd"
   ]
  },
  {
   "cell_type": "code",
   "execution_count": 3,
   "id": "76213b8d",
   "metadata": {},
   "outputs": [],
   "source": [
    "import numpy as np"
   ]
  },
  {
   "cell_type": "code",
   "execution_count": null,
   "id": "b4b8a70c",
   "metadata": {},
   "outputs": [
    {
     "name": "stdout",
     "output_type": "stream",
     "text": [
      "enter to start\n"
     ]
    }
   ],
   "source": [
    "input_images3=[]\n",
    "target3=[]\n",
    "count2=0\n",
    "capture_video=cv2.VideoCapture(0)\n",
    "for i in range(2):\n",
    "    no_of_images3=0\n",
    "#         capture_video=cv2.VideoCapture(0)\n",
    "#         time.sleep(5)\n",
    "    input(\"enter to start\")\n",
    "    while True:\n",
    "        _,image1=capture_video.read(0)\n",
    "        if not _:\n",
    "            break\n",
    "        gray5=cv2.cvtColor(image1,cv2.COLOR_BGR2GRAY)\n",
    "        haarcascade=cv2.CascadeClassifier(cv2.data.haarcascades + 'haarcascade_frontalface_default.xml')\n",
    "        detected_objects=haarcascade.detectMultiScale(gray5,1.2,9)\n",
    "             #if len(detected_objects)>1:\n",
    "                #continue\n",
    "            #else:\n",
    "                \n",
    "        for bbox in detected_objects:\n",
    "            x,y,w,h=bbox\n",
    "            cv2.rectangle(image1,(x,y),(x+w,y+h),(0,0,255),3)#making a rectangle over one of detected faces.\n",
    "            crop3=gray5[y:y+h,x:x+w]#cropping just the face.\n",
    "            crop3=cv2.resize(crop3,(100,100))\n",
    "            input_images3.append(crop3)\n",
    "            target3.append(count2)\n",
    "            no_of_images3+=1\n",
    "            cv2.imshow(\"cropped\",crop3)\n",
    "            key=cv2.waitKey(1)\n",
    "            cv2.imshow(\"image\",image1)\n",
    "#             if(cv2.waitKey(1) & 0xFF==ord('q')):\n",
    "#                 break\n",
    "#             if cv2.getWindowProperty(\"Generated video\", 4) < 1:\n",
    "#                 break\n",
    "        if no_of_images3==500:\n",
    "            break  \n",
    "#             capture_video.release()\n",
    "#             cv2.destroyAllWindows()\n",
    "    count2+=1\n",
    "    cv2.destroyAllWindows()\n",
    "    print(input_images3)\n",
    "    print(_)\n",
    "    print(count2)\n",
    "capture_video.release()\n",
    "\n",
    "\n",
    "#BELOW:\n",
    "    #normalization\n",
    "#     input_images=input_images/255\n",
    "    #reshaping to keep every pixel value inside an array\n",
    "#     input_images = input_images.reshape(1000,100,100,1)\n"
   ]
  },
  {
   "cell_type": "code",
   "execution_count": null,
   "id": "24e3744e",
   "metadata": {},
   "outputs": [],
   "source": [
    "len(input_images3)"
   ]
  },
  {
   "cell_type": "code",
   "execution_count": null,
   "id": "7f7093bb",
   "metadata": {},
   "outputs": [],
   "source": [
    "len(target3)"
   ]
  },
  {
   "cell_type": "code",
   "execution_count": null,
   "id": "68d6c265",
   "metadata": {},
   "outputs": [],
   "source": [
    "input_images3_normalized=np.array(input_images3)/255.0\n",
    "input_images3_normalized"
   ]
  },
  {
   "cell_type": "code",
   "execution_count": null,
   "id": "62bed990",
   "metadata": {},
   "outputs": [],
   "source": [
    "input_images3_normalized_reshaped=input_images3_normalized.reshape(1000,100,100,1)"
   ]
  },
  {
   "cell_type": "code",
   "execution_count": null,
   "id": "c9e987a2",
   "metadata": {},
   "outputs": [],
   "source": [
    "input_images3_normalized_reshaped"
   ]
  },
  {
   "cell_type": "code",
   "execution_count": null,
   "id": "b78e3252",
   "metadata": {},
   "outputs": [],
   "source": [
    "from keras.utils import np_utils"
   ]
  },
  {
   "cell_type": "code",
   "execution_count": null,
   "id": "f5c06178",
   "metadata": {},
   "outputs": [],
   "source": [
    "target3=np_utils.to_categorical(target3)"
   ]
  },
  {
   "cell_type": "code",
   "execution_count": null,
   "id": "1eb85e2b",
   "metadata": {},
   "outputs": [],
   "source": [
    "target3[:100]"
   ]
  },
  {
   "cell_type": "code",
   "execution_count": null,
   "id": "41df2da2",
   "metadata": {},
   "outputs": [],
   "source": [
    "from sklearn.model_selection import train_test_split\n",
    "X_train,X_test,Y_train,Y_test=train_test_split(input_images3_normalized_reshaped,target3)"
   ]
  },
  {
   "cell_type": "code",
   "execution_count": null,
   "id": "c351420e",
   "metadata": {},
   "outputs": [],
   "source": [
    "X_train.shape,X_test.shape,Y_train.shape,Y_train.shape"
   ]
  },
  {
   "cell_type": "code",
   "execution_count": null,
   "id": "6c09a397",
   "metadata": {},
   "outputs": [],
   "source": [
    "from keras.models import Sequential\n",
    "from keras.layers import Dense,Activation,Conv2D,MaxPooling2D,Dropout,Flatten\n",
    "from tensorflow.keras.optimizers import SGD\n",
    "from keras.callbacks import ModelCheckpoint"
   ]
  },
  {
   "cell_type": "code",
   "execution_count": null,
   "id": "8b314450",
   "metadata": {},
   "outputs": [],
   "source": [
    "model=Sequential()"
   ]
  },
  {
   "cell_type": "code",
   "execution_count": null,
   "id": "b19b5b2f",
   "metadata": {},
   "outputs": [],
   "source": [
    "model.add(Conv2D(300, (3,3), input_shape=(100, 100, 1)))\n",
    "model.add(Activation('relu'))\n",
    "model.add(MaxPooling2D(pool_size=(2,2)))\n",
    "\n",
    "model.add(Conv2D(100,(3,3)))\n",
    "model.add(Activation('relu'))\n",
    "model.add(MaxPooling2D(pool_size=(2,2)))\n",
    "\n",
    "model.add(Dropout(0.3))\n",
    "model.add(Flatten())\n",
    "\n",
    "model.add(Dense(50,activation='relu'))\n",
    "model.add(Dense(2, activation='softmax'))\n",
    "\n",
    "model.compile(loss='categorical_crossentropy',optimizer='adam', metrics=['accuracy'])"
   ]
  },
  {
   "cell_type": "code",
   "execution_count": null,
   "id": "844b5622",
   "metadata": {},
   "outputs": [],
   "source": [
    "cp=ModelCheckpoint('best_one',verbose=0,save_best_only=True)\n",
    "model.fit(X_train,Y_train,epochs=5,callbacks=[cp],validation_split=0.2)"
   ]
  },
  {
   "cell_type": "code",
   "execution_count": null,
   "id": "c9abb93f",
   "metadata": {},
   "outputs": [],
   "source": [
    "from keras.models import load_model\n",
    "model=load_model('best_one')"
   ]
  },
  {
   "cell_type": "code",
   "execution_count": null,
   "id": "eb704bb2",
   "metadata": {},
   "outputs": [],
   "source": [
    "import os\n",
    "import imghdr\n",
    "import smtplib\n",
    "from email.message import EmailMessage\n",
    "capture_video=cv2.VideoCapture(0)\n",
    "img_counter=0\n",
    "\n",
    "while True:\n",
    "    _,image1=capture_video.read(0)\n",
    "    gray6=cv2.cvtColor(image1,cv2.COLOR_BGR2GRAY)\n",
    "    haarcascade=cv2.CascadeClassifier(cv2.data.haarcascades + 'haarcascade_frontalface_default.xml')\n",
    "    detected_objects=haarcascade.detectMultiScale(gray6,1.2,9)\n",
    "    for bbox in detected_objects:\n",
    "        x,y,w,h=bbox\n",
    "        cv2.rectangle(image1,(x,y),(x+w,y+h),(0,0,255),3)\n",
    "        crop3=gray6[y:y+h,x:x+w]\n",
    "        cropped_image=cv2.resize(crop3,(100,100))\n",
    "        normalized_image=cropped_image/255\n",
    "        reshaped_face=np.reshape(normalized_image, (1,100,100,1))\n",
    "        result=model.predict(reshaped_face)[0]\n",
    "        if result[0]>0.20:\n",
    "            img_counter+=1\n",
    "            \n",
    "            if img_counter==1:\n",
    "                _,frame=capture_video.read()\n",
    "                img_name = \"Intruder{}.png\".format(img_counter)\n",
    "                cv2.imwrite(img_name, frame)\n",
    "                user = os.environ.get('EMAIL')\n",
    "                password = os.environ.get('PYTHONPASSWORD')\n",
    "                msg=EmailMessage()\n",
    "                msg['Subject']=\"Intruder Alert!!\"\n",
    "                msg['From']=user\n",
    "                msg['To']=user\n",
    "                msg.set_content(\"Intruder identified at your door, suspect's photo is attached below!\")\n",
    "                with open(img_name,'rb') as f:\n",
    "                    file_data=f.read()\n",
    "                    file_type=imghdr.what(img_name)\n",
    "                    file_name=img_name\n",
    "                #     print(file_type)\n",
    "                msg.add_attachment(file_data,maintype='image',subtype=file_type,filename=file_name)\n",
    "                with smtplib.SMTP_SSL('smtp.gmail.com',465) as smtp:\n",
    "                    smtp.login(user,password)\n",
    "                    smtp.send_message(msg)\n",
    "            cv2.rectangle(image1,(x,y),(x+w,y+h),(0,0,255),2)\n",
    "            cv2.putText(image1,\"Intruder\",(x,y),cv2.FONT_HERSHEY_SIMPLEX,1,(0,0,255),2)\n",
    "            \n",
    "#             continue\n",
    "        if result[1]>0.80:\n",
    "            cv2.rectangle(image1,(x,y),(x+w,y+h),(0,255,0),2)\n",
    "            cv2.putText(image1,\"Innocent\",(x,y),cv2.FONT_HERSHEY_SIMPLEX,1,(0,255,0),2)\n",
    "    cv2.imshow(\"image\",image1)\n",
    "    key=cv2.waitKey(1)\n",
    "    if key==27:\n",
    "        break  \n",
    "cv2.destroyAllWindows()\n",
    "capture_video.release()\n"
   ]
  },
  {
   "cell_type": "code",
   "execution_count": null,
   "id": "7278b1c9",
   "metadata": {},
   "outputs": [],
   "source": []
  }
 ],
 "metadata": {
  "kernelspec": {
   "display_name": "Python 3",
   "language": "python",
   "name": "python3"
  },
  "language_info": {
   "codemirror_mode": {
    "name": "ipython",
    "version": 3
   },
   "file_extension": ".py",
   "mimetype": "text/x-python",
   "name": "python",
   "nbconvert_exporter": "python",
   "pygments_lexer": "ipython3",
   "version": "3.9.5"
  }
 },
 "nbformat": 4,
 "nbformat_minor": 5
}
